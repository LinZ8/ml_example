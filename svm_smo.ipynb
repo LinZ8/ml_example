{
 "cells": [
  {
   "cell_type": "code",
   "execution_count": 1,
   "metadata": {
    "collapsed": false
   },
   "outputs": [],
   "source": [
    "from sklearn import datasets\n",
    "import numpy as np\n",
    "import pandas as pd\n",
    "iris = datasets.load_iris()\n",
    "total_x = pd.DataFrame(iris.data[:,:2])\n",
    "total_y = pd.Series(iris.target)\n",
    "n_x = len(total_x)\n",
    "n_test = np.rint(n_x/3.0)\n",
    "n_train = np.int(n_x-n_test)\n",
    "x_train_df = total_x.sample(n_train)\n",
    "x_test_df = total_x.drop(x_train_df.index)\n",
    "y_train_df = total_y[x_train_df.index]\n",
    "y_test_df = total_y.drop(x_train_df.index)\n",
    "\n",
    "#target value is a three classifications' dataset (0,1,2)\n",
    "#for now, test seperating 0 and others\n",
    "#consider all target of 2 as 1\n",
    "y_train_no2 = y_train_df.replace(2,1)\n",
    "y_test_no2 = y_test_df.replace(2,1)\n",
    "y_train_minus1 = y_train_no2.replace(0,-1)\n",
    "y_test_minus1 = y_test_no2.replace(0,-1)\n",
    "x_train = np.array(x_train_df)\n",
    "x_test = np.array(x_test_df)\n",
    "y_train = np.array(y_train_minus1)\n",
    "y_test = np.array(y_test_minus1)"
   ]
  },
  {
   "cell_type": "code",
   "execution_count": 2,
   "metadata": {
    "collapsed": false,
    "scrolled": false
   },
   "outputs": [
    {
     "name": "stdout",
     "output_type": "stream",
     "text": [
      "2\n",
      "83\n",
      "67\n",
      "12\n",
      "46\n",
      "12\n",
      "87\n",
      "70\n",
      "32\n",
      "84\n",
      "59\n",
      "74\n",
      "55\n",
      "67\n",
      "62\n",
      "55\n",
      "10\n",
      "67\n",
      "29\n",
      "76\n",
      "25\n",
      "57\n",
      "10\n",
      "56\n",
      "97\n",
      "84\n",
      "56\n",
      "25\n",
      "71\n",
      "23\n",
      "83\n",
      "24\n",
      "69\n",
      "83\n",
      "50\n",
      "41\n",
      "86\n",
      "34\n",
      "24\n",
      "37\n",
      "25\n",
      "78\n",
      "72\n",
      "50\n",
      "84\n",
      "91\n",
      "41\n",
      "72\n",
      "42\n"
     ]
    }
   ],
   "source": [
    "from svm_smo import svm_smo as svm\n",
    "model = svm(c=1.0,maxiter = 100, tol = 0.001)\n",
    "(w,b) = model.fit(x_train,y_train)"
   ]
  },
  {
   "cell_type": "code",
   "execution_count": 3,
   "metadata": {
    "collapsed": false
   },
   "outputs": [],
   "source": [
    "x1 = np.zeros(10)\n",
    "x2 = np.zeros(10)\n",
    "for i in range(10):\n",
    "    x1[i] = i\n",
    "    x2[i] = (-b -w[0]*x1[i])/(w[1])"
   ]
  },
  {
   "cell_type": "code",
   "execution_count": 10,
   "metadata": {
    "collapsed": false
   },
   "outputs": [
    {
     "name": "stdout",
     "output_type": "stream",
     "text": [
      "Using matplotlib backend: Qt4Agg\n",
      "Populating the interactive namespace from numpy and matplotlib\n"
     ]
    },
    {
     "data": {
      "text/plain": [
       "[<matplotlib.lines.Line2D at 0xe681ef0>]"
      ]
     },
     "execution_count": 10,
     "metadata": {},
     "output_type": "execute_result"
    }
   ],
   "source": [
    "%pylab\n",
    "plt.scatter(x_train[:,0],x_train[:,1],c=y_train, edgecolors='k', cmap=plt.cm.Paired )\n",
    "plt.plot(x1,x2)"
   ]
  },
  {
   "cell_type": "code",
   "execution_count": 5,
   "metadata": {
    "collapsed": true
   },
   "outputs": [],
   "source": [
    "from sklearn import svm"
   ]
  },
  {
   "cell_type": "code",
   "execution_count": 6,
   "metadata": {
    "collapsed": false
   },
   "outputs": [],
   "source": [
    "lin_clf = svm.LinearSVC(max_iter = 1000)"
   ]
  },
  {
   "cell_type": "code",
   "execution_count": 7,
   "metadata": {
    "collapsed": false
   },
   "outputs": [
    {
     "data": {
      "text/plain": [
       "LinearSVC(C=1.0, class_weight=None, dual=True, fit_intercept=True,\n",
       "     intercept_scaling=1, loss='squared_hinge', max_iter=1000,\n",
       "     multi_class='ovr', penalty='l2', random_state=None, tol=0.0001,\n",
       "     verbose=0)"
      ]
     },
     "execution_count": 7,
     "metadata": {},
     "output_type": "execute_result"
    }
   ],
   "source": [
    "lin_clf.fit(x_train,y_train)"
   ]
  },
  {
   "cell_type": "code",
   "execution_count": 8,
   "metadata": {
    "collapsed": false
   },
   "outputs": [],
   "source": [
    "x1 = np.zeros(10)\n",
    "x2 = np.zeros(10)\n",
    "for i in range(10):\n",
    "    x1[i] = i\n",
    "    x2[i] = (-lin_clf.intercept_[0] -lin_clf.coef_[0][0]*x1[i])/(lin_clf.coef_[0][1])"
   ]
  },
  {
   "cell_type": "code",
   "execution_count": 9,
   "metadata": {
    "collapsed": false
   },
   "outputs": [
    {
     "data": {
      "text/plain": [
       "[<matplotlib.lines.Line2D at 0xe6dfb70>]"
      ]
     },
     "execution_count": 9,
     "metadata": {},
     "output_type": "execute_result"
    }
   ],
   "source": [
    "plt.plot(x1,x2)"
   ]
  },
  {
   "cell_type": "code",
   "execution_count": 3,
   "metadata": {
    "collapsed": false
   },
   "outputs": [
    {
     "ename": "NameError",
     "evalue": "name 'alphas' is not defined",
     "output_type": "error",
     "traceback": [
      "\u001b[1;31m---------------------------------------------------------------------------\u001b[0m",
      "\u001b[1;31mNameError\u001b[0m                                 Traceback (most recent call last)",
      "\u001b[1;32m<ipython-input-3-a06aab9f588e>\u001b[0m in \u001b[0;36m<module>\u001b[1;34m()\u001b[0m\n\u001b[1;32m----> 1\u001b[1;33m \u001b[0malphas\u001b[0m\u001b[1;33m\u001b[0m\u001b[0m\n\u001b[0m",
      "\u001b[1;31mNameError\u001b[0m: name 'alphas' is not defined"
     ]
    }
   ],
   "source": [
    "alphas"
   ]
  },
  {
   "cell_type": "code",
   "execution_count": null,
   "metadata": {
    "collapsed": true
   },
   "outputs": [],
   "source": []
  }
 ],
 "metadata": {
  "anaconda-cloud": {},
  "kernelspec": {
   "display_name": "Python [Root]",
   "language": "python",
   "name": "Python [Root]"
  },
  "language_info": {
   "codemirror_mode": {
    "name": "ipython",
    "version": 2
   },
   "file_extension": ".py",
   "mimetype": "text/x-python",
   "name": "python",
   "nbconvert_exporter": "python",
   "pygments_lexer": "ipython2",
   "version": "2.7.12"
  }
 },
 "nbformat": 4,
 "nbformat_minor": 0
}
